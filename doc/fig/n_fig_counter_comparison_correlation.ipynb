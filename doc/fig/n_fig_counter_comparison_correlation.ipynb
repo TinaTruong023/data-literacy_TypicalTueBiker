{
 "cells": [
  {
   "cell_type": "code",
   "execution_count": 1,
   "metadata": {},
   "outputs": [],
   "source": [
    "import sys\n",
    "import os\n",
    "\n",
    "# Get the current working directory (where the notebook is located)\n",
    "curr_dir = os.getcwd()\n",
    "\n",
    "# Add the project root to the system path\n",
    "project_root = os.path.abspath(os.path.join(curr_dir, '..', '..'))\n",
    "sys.path.append(project_root)\n",
    "\n",
    "import warnings\n",
    "warnings.simplefilter(action='ignore', category=FutureWarning)\n",
    "warnings.simplefilter(action='ignore', category=DeprecationWarning)\n",
    "\n",
    "import pandas as pd\n",
    "import numpy as np\n",
    "\n",
    "from src.LoadEcoCounterData import EcoCounterData as BikeData\n",
    "\n",
    "import matplotlib.pyplot as plt\n",
    "import matplotlib.dates as mdates\n",
    "from tueplots import bundles\n",
    "import src.Colortheme as ct\n",
    "import src.BikeDataPlotter as BikePlotter"
   ]
  },
  {
   "cell_type": "markdown",
   "metadata": {},
   "source": [
    "# Paper Figure: Counter Correlation Comparison"
   ]
  },
  {
   "cell_type": "code",
   "execution_count": 2,
   "metadata": {},
   "outputs": [],
   "source": [
    "def reset(daily_bike_data):\n",
    "    tunnel_df = daily_bike_data[daily_bike_data[\"counter_site_id\"] == 100003358][[\"iso_timestamp\", \"zählstand\"]]\n",
    "    steinlach_df = daily_bike_data[daily_bike_data[\"counter_site_id\"] == 100003359][[\"iso_timestamp\", \"zählstand\"]]\n",
    "    hirschau_df = daily_bike_data[daily_bike_data[\"counter_site_id\"] == 100026408][[\"iso_timestamp\", \"zählstand\"]]\n",
    "\n",
    "    # merge to get data that all counters have in common\n",
    "    df_data = tunnel_df.merge(steinlach_df, on='iso_timestamp', how='inner', suffixes=('_tunnel', '_steinlach')).merge(hirschau_df, on='iso_timestamp', how='inner')\n",
    "    df_data.rename(columns={\"zählstand\": \"zählstand_hirschau\"}, inplace=True)\n",
    "    return df_data\n",
    "\n",
    "def normalize(df_data):\n",
    "    df_data['zählstand_tunnel'] = df_data['zählstand_tunnel'] / df_data['zählstand_tunnel'].max()\n",
    "    df_data['zählstand_steinlach'] = df_data['zählstand_steinlach'] / df_data['zählstand_steinlach'].max()\n",
    "    df_data['zählstand_hirschau'] = df_data['zählstand_hirschau'] / df_data['zählstand_hirschau'].max()\n",
    "    return df_data"
   ]
  },
  {
   "cell_type": "code",
   "execution_count": 3,
   "metadata": {},
   "outputs": [],
   "source": [
    "bd = BikeData()\n",
    "daily_bike_data = bd.get_daily_data()\n",
    "df_data = reset(daily_bike_data)"
   ]
  },
  {
   "cell_type": "code",
   "execution_count": 6,
   "metadata": {},
   "outputs": [],
   "source": [
    "df_data_normalized = normalize(df_data)\n",
    "trimmed_comp_pairs =    [['zählstand_tunnel', 'zählstand_steinlach'], ['zählstand_steinlach', 'zählstand_hirschau']]\n",
    "labels =                [[\"FC\",\"SC\"], [\"SC\",\"HC\"]]\n",
    "color_mapping = {\n",
    "    \"FC\":   0,\n",
    "    \"SC\":   1,\n",
    "    \"HC\":   2,\n",
    "}\n",
    "\n",
    "plt.rcParams.update({\"figure.dpi\": 300})\n",
    "with plt.rc_context(bundles.icml2022(column=\"half\", family=\"serif\", usetex=False, nrows=1, ncols=1)):\n",
    "    plt.rcParams['font.serif'] = \"Times New Roman\"\n",
    "    fig, ax = plt.subplots(2, 1, sharex=True)\n",
    "    alph = 0.75\n",
    "    linew = 0.3\n",
    "    for idx, pair in enumerate(trimmed_comp_pairs):\n",
    "        ax[idx].plot(\n",
    "            df_data_normalized[\"iso_timestamp\"],\n",
    "            df_data_normalized[pair[0]],\n",
    "            label=labels[idx][0],\n",
    "            color=BikePlotter.COUNTER[BikePlotter.COUNTER_ORDER[color_mapping[labels[idx][0]]]][\"color\"],\n",
    "            alpha=1,\n",
    "            linewidth=linew,\n",
    "        )\n",
    "        ax[idx].plot(\n",
    "            df_data_normalized[\"iso_timestamp\"],\n",
    "            df_data_normalized[pair[1]],\n",
    "            label=labels[idx][1],\n",
    "            color=BikePlotter.COUNTER[BikePlotter.COUNTER_ORDER[color_mapping[labels[idx][1]]]][\"color\"],\n",
    "            alpha=alph,\n",
    "            linewidth=linew,\n",
    "        )\n",
    "        # ax[idx].legend(bbox_to_anchor=(1, 0.5), loc=\"center left\", frameon=False)\n",
    "        # ax[idx].xaxis.set_minor_locator(mdates.MonthLocator(interval=1))\n",
    "        leg = ax[idx].legend(bbox_to_anchor=(0,1.35), ncol=2, loc=\"upper left\", frameon=False)\n",
    "        for legobj in leg.legend_handles:\n",
    "            legobj.set_linewidth(1.0)\n",
    "        ax[idx].set_ylim(0, 1)\n",
    "        \n",
    "        # ax[idx].set_title(f\"Daily Average Count Comparison of {pair[0]} and {pair[1]}\", loc=BikePlotter.AXIS_TITLE_PARAMS[\"loc\"])\n",
    "        # ax[idx].set_title(f\"{labels[idx]}\", loc=BikePlotter.AXIS_TITLE_PARAMS[\"loc\"])\n",
    "        ax[idx].set_xlim([pd.Timestamp(\"2016-01-01\"), pd.Timestamp(\"2023-12-31\")])\n",
    "        # ax[idx].set_yticks()\n",
    "        l = np.arange(0, 1.25, 0.25)\n",
    "        ax[idx].set(yticks=l, yticklabels=l)\n",
    "        # ax[idx].grid(lw=0.3, ls=\":\")\n",
    "    # ax[-1].set_xlabel('Date')\n",
    "    # ax[1].set_ylabel('Normalized Count')\n",
    "    # fig.text(0.5, -0.02, 'Days', ha='center')\n",
    "    fig.text(-0.035, 0.5, 'Normalized Count', va='center', rotation='vertical')\n",
    "    # plt.show()\n",
    "    plt.savefig(\"fig_counter_comparison_correlation.pdf\")"
   ]
  }
 ],
 "metadata": {
  "kernelspec": {
   "display_name": "nds_env",
   "language": "python",
   "name": "python3"
  },
  "language_info": {
   "codemirror_mode": {
    "name": "ipython",
    "version": 3
   },
   "file_extension": ".py",
   "mimetype": "text/x-python",
   "name": "python",
   "nbconvert_exporter": "python",
   "pygments_lexer": "ipython3",
   "version": "3.10.13"
  }
 },
 "nbformat": 4,
 "nbformat_minor": 2
}
